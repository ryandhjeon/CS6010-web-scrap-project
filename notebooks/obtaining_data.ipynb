{
 "cells": [
  {
   "cell_type": "markdown",
   "metadata": {},
   "source": [
    "# Webscraping\n",
    "Main object: Scrape the information from the web, convert them into Pandas Dataframe, and then CSV/Excel file.\n",
    "\n",
    "In this webscraping exercise, I will be using the link below. \n",
    "\n",
    "url: http://quotes.toscrape.com/"
   ]
  },
  {
   "cell_type": "code",
   "execution_count": 2,
   "metadata": {},
   "outputs": [],
   "source": [
    "# Import libraries\n",
    "\n",
    "import pandas as pd\n",
    "import urllib.request\n",
    "from bs4 import BeautifulSoup as bs\n",
    "from urllib.error import HTTPError, URLError"
   ]
  },
  {
   "cell_type": "markdown",
   "metadata": {
    "pycharm": {
     "name": "#%% md\n"
    }
   },
   "source": [
    "## 1. Scrap data from the web"
   ]
  },
  {
   "cell_type": "code",
   "execution_count": 16,
   "metadata": {
    "pycharm": {
     "name": "#%%\n"
    }
   },
   "outputs": [
    {
     "name": "stdout",
     "output_type": "stream",
     "text": [
      "Retrieving page: http://quotes.toscrape.com/\n",
      "Retrieving page: http://quotes.toscrape.com/page/2/\n",
      "Retrieving page: http://quotes.toscrape.com/page/3/\n",
      "Retrieving page: http://quotes.toscrape.com/page/4/\n",
      "Retrieving page: http://quotes.toscrape.com/page/5/\n",
      "Retrieving page: http://quotes.toscrape.com/page/6/\n",
      "Retrieving page: http://quotes.toscrape.com/page/7/\n",
      "Retrieving page: http://quotes.toscrape.com/page/8/\n",
      "Retrieving page: http://quotes.toscrape.com/page/9/\n",
      "Retrieving page: http://quotes.toscrape.com/page/10/\n"
     ]
    }
   ],
   "source": [
    "allQuoteData = []\n",
    "\n",
    "baseUrl = \"http://quotes.toscrape.com/\"\n",
    "curPage = baseUrl\n",
    "\n",
    "while True:\n",
    "    try:\n",
    "        print(\"Retrieving page: \" + curPage)\n",
    "        curPageContent = urllib.request.urlopen(curPage).read()        \n",
    "    except: \n",
    "        break\n",
    "        \n",
    "    soup = bs(curPageContent)\n",
    "\n",
    "    quoteBlocks = soup.find_all(class_=\"quote\")\n",
    "    \n",
    "    for quoteBlock in quoteBlocks:        \n",
    "        quoteDict = {}\n",
    "\n",
    "        # Add quote\n",
    "        quote = quoteBlock.find(class_=\"text\").text\n",
    "        quoteDict['Quote'] = quote\n",
    "\n",
    "        # URL for the each author\n",
    "        authorUrl = baseUrl + 'author/' + quoteBlock.find(\"a\").get(\"href\").split('/')[2]\n",
    "        \n",
    "        # Read author page\n",
    "        try:\n",
    "            authorInfo = urllib.request.urlopen(authorUrl).read()\n",
    "        except HTTPError as e:\n",
    "            print(curPage, \" \", authorUrl, \" \", e)\n",
    "        except URLError as e:\n",
    "            print(curPage, \" \", authorUrl, \" \", e)\n",
    "\n",
    "        authorSoup = bs(authorInfo)\n",
    "\n",
    "        # Author name\n",
    "        author = authorSoup.find(class_ = 'author-title').text\n",
    "        quoteDict['Author name'] = author\n",
    "\n",
    "        # Author born date\n",
    "        authorDob = authorSoup.find(class_ = 'author-born-date').text\n",
    "        quoteDict['Author DOB'] = authorDob\n",
    "\n",
    "        # Author place\n",
    "        authorPlace = authorSoup.find(class_ = 'author-born-location').text\n",
    "        quoteDict['Author born location'] = authorPlace.replace('in ','')\n",
    "\n",
    "        # Author bio\n",
    "        authorDesc = authorSoup.find(class_ = 'author-description').text\n",
    "        quoteDict['Author description'] = authorDesc.strip()\n",
    "\n",
    "        allQuoteData.append(quoteDict)\n",
    "\n",
    "    if soup.find(class_=\"next\") is None:\n",
    "        break\n",
    "    \n",
    "    pageLink = soup.find(class_='next').find('a').get('href')[1:]\n",
    "    nextPage = pageLink\n",
    "    curPage = baseUrl + nextPage\n",
    "\n"
   ]
  },
  {
   "cell_type": "markdown",
   "metadata": {
    "pycharm": {
     "name": "#%% md\n"
    }
   },
   "source": [
    "## 2. Move the data into the dataframe"
   ]
  },
  {
   "cell_type": "code",
   "execution_count": 17,
   "metadata": {
    "pycharm": {
     "name": "#%%\n"
    }
   },
   "outputs": [
    {
     "data": {
      "text/html": [
       "<div>\n",
       "<style scoped>\n",
       "    .dataframe tbody tr th:only-of-type {\n",
       "        vertical-align: middle;\n",
       "    }\n",
       "\n",
       "    .dataframe tbody tr th {\n",
       "        vertical-align: top;\n",
       "    }\n",
       "\n",
       "    .dataframe thead th {\n",
       "        text-align: right;\n",
       "    }\n",
       "</style>\n",
       "<table border=\"1\" class=\"dataframe\">\n",
       "  <thead>\n",
       "    <tr style=\"text-align: right;\">\n",
       "      <th></th>\n",
       "      <th>Quote</th>\n",
       "      <th>Author name</th>\n",
       "      <th>Author DOB</th>\n",
       "      <th>Author born location</th>\n",
       "      <th>Author description</th>\n",
       "    </tr>\n",
       "  </thead>\n",
       "  <tbody>\n",
       "    <tr>\n",
       "      <th>0</th>\n",
       "      <td>“The world as we have created it is a process ...</td>\n",
       "      <td>Albert Einstein\\n</td>\n",
       "      <td>March 14, 1879</td>\n",
       "      <td>Ulm, Germany</td>\n",
       "      <td>In 1879, Albert Einstein was born in Ulm, Germ...</td>\n",
       "    </tr>\n",
       "    <tr>\n",
       "      <th>1</th>\n",
       "      <td>“It is our choices, Harry, that show what we t...</td>\n",
       "      <td>J.K. Rowling\\n</td>\n",
       "      <td>July 31, 1965</td>\n",
       "      <td>Yate, South Gloucestershire, England, The Unit...</td>\n",
       "      <td>See also: Robert GalbraithAlthough she writes ...</td>\n",
       "    </tr>\n",
       "    <tr>\n",
       "      <th>2</th>\n",
       "      <td>“There are only two ways to live your life. On...</td>\n",
       "      <td>Albert Einstein\\n</td>\n",
       "      <td>March 14, 1879</td>\n",
       "      <td>Ulm, Germany</td>\n",
       "      <td>In 1879, Albert Einstein was born in Ulm, Germ...</td>\n",
       "    </tr>\n",
       "    <tr>\n",
       "      <th>3</th>\n",
       "      <td>“The person, be it gentleman or lady, who has ...</td>\n",
       "      <td>Jane Austen\\n</td>\n",
       "      <td>December 16, 1775</td>\n",
       "      <td>Steventon Rectory, Hampshire, The United Kingdom</td>\n",
       "      <td>Jane Austen was an English novelist whose work...</td>\n",
       "    </tr>\n",
       "    <tr>\n",
       "      <th>4</th>\n",
       "      <td>“Imperfection is beauty, madness is genius and...</td>\n",
       "      <td>Marilyn Monroe\\n</td>\n",
       "      <td>June 01, 1926</td>\n",
       "      <td>The United States</td>\n",
       "      <td>Marilyn Monroe (born Norma Jeane Mortenson; Ju...</td>\n",
       "    </tr>\n",
       "    <tr>\n",
       "      <th>5</th>\n",
       "      <td>“Try not to become a man of success. Rather be...</td>\n",
       "      <td>Albert Einstein\\n</td>\n",
       "      <td>March 14, 1879</td>\n",
       "      <td>Ulm, Germany</td>\n",
       "      <td>In 1879, Albert Einstein was born in Ulm, Germ...</td>\n",
       "    </tr>\n",
       "    <tr>\n",
       "      <th>6</th>\n",
       "      <td>“It is better to be hated for what you are tha...</td>\n",
       "      <td>André Gide\\n</td>\n",
       "      <td>November 22, 1869</td>\n",
       "      <td>Paris, France</td>\n",
       "      <td>André Paul Guillaume Gide was a French author ...</td>\n",
       "    </tr>\n",
       "    <tr>\n",
       "      <th>7</th>\n",
       "      <td>“I have not failed. I've just found 10,000 way...</td>\n",
       "      <td>Thomas A. Edison\\n</td>\n",
       "      <td>February 11, 1847</td>\n",
       "      <td>Milan, Ohio, The United States</td>\n",
       "      <td>Thomas Alva Edison was an American inventor, s...</td>\n",
       "    </tr>\n",
       "    <tr>\n",
       "      <th>8</th>\n",
       "      <td>“A woman is like a tea bag; you never know how...</td>\n",
       "      <td>Eleanor Roosevelt\\n</td>\n",
       "      <td>October 11, 1884</td>\n",
       "      <td>The United States</td>\n",
       "      <td>Anna Eleanor Roosevelt was an American politic...</td>\n",
       "    </tr>\n",
       "    <tr>\n",
       "      <th>9</th>\n",
       "      <td>“A day without sunshine is like, you know, nig...</td>\n",
       "      <td>Steve Martin\\n</td>\n",
       "      <td>August 14, 1945</td>\n",
       "      <td>Waco, Texas, The United States</td>\n",
       "      <td>Stephen Glenn \"Steve\" Martin is an American ac...</td>\n",
       "    </tr>\n",
       "  </tbody>\n",
       "</table>\n",
       "</div>"
      ],
      "text/plain": [
       "                                               Quote              Author name  \\\n",
       "0  “The world as we have created it is a process ...    Albert Einstein\\n       \n",
       "1  “It is our choices, Harry, that show what we t...       J.K. Rowling\\n       \n",
       "2  “There are only two ways to live your life. On...    Albert Einstein\\n       \n",
       "3  “The person, be it gentleman or lady, who has ...        Jane Austen\\n       \n",
       "4  “Imperfection is beauty, madness is genius and...     Marilyn Monroe\\n       \n",
       "5  “Try not to become a man of success. Rather be...    Albert Einstein\\n       \n",
       "6  “It is better to be hated for what you are tha...         André Gide\\n       \n",
       "7  “I have not failed. I've just found 10,000 way...   Thomas A. Edison\\n       \n",
       "8  “A woman is like a tea bag; you never know how...  Eleanor Roosevelt\\n       \n",
       "9  “A day without sunshine is like, you know, nig...       Steve Martin\\n       \n",
       "\n",
       "          Author DOB                               Author born location  \\\n",
       "0     March 14, 1879                                       Ulm, Germany   \n",
       "1      July 31, 1965  Yate, South Gloucestershire, England, The Unit...   \n",
       "2     March 14, 1879                                       Ulm, Germany   \n",
       "3  December 16, 1775   Steventon Rectory, Hampshire, The United Kingdom   \n",
       "4      June 01, 1926                                  The United States   \n",
       "5     March 14, 1879                                       Ulm, Germany   \n",
       "6  November 22, 1869                                      Paris, France   \n",
       "7  February 11, 1847                     Milan, Ohio, The United States   \n",
       "8   October 11, 1884                                  The United States   \n",
       "9    August 14, 1945                     Waco, Texas, The United States   \n",
       "\n",
       "                                  Author description  \n",
       "0  In 1879, Albert Einstein was born in Ulm, Germ...  \n",
       "1  See also: Robert GalbraithAlthough she writes ...  \n",
       "2  In 1879, Albert Einstein was born in Ulm, Germ...  \n",
       "3  Jane Austen was an English novelist whose work...  \n",
       "4  Marilyn Monroe (born Norma Jeane Mortenson; Ju...  \n",
       "5  In 1879, Albert Einstein was born in Ulm, Germ...  \n",
       "6  André Paul Guillaume Gide was a French author ...  \n",
       "7  Thomas Alva Edison was an American inventor, s...  \n",
       "8  Anna Eleanor Roosevelt was an American politic...  \n",
       "9  Stephen Glenn \"Steve\" Martin is an American ac...  "
      ]
     },
     "execution_count": 17,
     "metadata": {},
     "output_type": "execute_result"
    }
   ],
   "source": [
    "headers = allQuoteData[0].keys()\n",
    "quoteDf = pd.DataFrame(allQuoteData, columns=headers)\n",
    "\n",
    "# Check the size of the dataframe\n",
    "quoteDf.shape\n",
    "\n",
    "# Check if we have the right information in the dataframe\n",
    "quoteDf.head(10)"
   ]
  },
  {
   "cell_type": "markdown",
   "metadata": {
    "pycharm": {
     "name": "#%% md\n"
    }
   },
   "source": [
    "## 3. Convert dataframe into CSV, and Excel file"
   ]
  },
  {
   "cell_type": "code",
   "execution_count": 18,
   "metadata": {
    "collapsed": false,
    "jupyter": {
     "outputs_hidden": false
    },
    "pycharm": {
     "name": "#%%\n"
    }
   },
   "outputs": [
    {
     "name": "stdout",
     "output_type": "stream",
     "text": [
      "Successfully converted data to CSV, xlsx\n"
     ]
    }
   ],
   "source": [
    "quoteDf.to_csv(\"../data/raw/Quotes.csv\", encoding='utf-8-sig')\n",
    "quoteDf.to_excel(\"../data/raw/Quotes.xlsx\")\n",
    "\n",
    "print('Successfully converted data to CSV, xlsx')"
   ]
  },
  {
   "cell_type": "markdown",
   "metadata": {},
   "source": [
    "# Final cell"
   ]
  },
  {
   "cell_type": "code",
   "execution_count": 20,
   "metadata": {
    "collapsed": false,
    "jupyter": {
     "outputs_hidden": false
    },
    "pycharm": {
     "name": "#%%\n"
    }
   },
   "outputs": [
    {
     "name": "stdout",
     "output_type": "stream",
     "text": [
      "Retrieving page: http://quotes.toscrape.com/\n",
      "Retrieving page: http://quotes.toscrape.com/page/2/\n",
      "Retrieving page: http://quotes.toscrape.com/page/3/\n",
      "Retrieving page: http://quotes.toscrape.com/page/4/\n",
      "Retrieving page: http://quotes.toscrape.com/page/5/\n",
      "Retrieving page: http://quotes.toscrape.com/page/6/\n",
      "Retrieving page: http://quotes.toscrape.com/page/7/\n",
      "Retrieving page: http://quotes.toscrape.com/page/8/\n",
      "Retrieving page: http://quotes.toscrape.com/page/9/\n",
      "Retrieving page: http://quotes.toscrape.com/page/10/\n",
      "Successfully converted data to CSV, xlsx\n"
     ]
    }
   ],
   "source": [
    "import pandas as pd\n",
    "import urllib.request\n",
    "from bs4 import BeautifulSoup as bs\n",
    "from urllib.error import HTTPError, URLError\n",
    "\n",
    "allQuoteData = []\n",
    "\n",
    "baseUrl = \"http://quotes.toscrape.com/\"\n",
    "curPage = baseUrl\n",
    "\n",
    "while True:\n",
    "    try:\n",
    "        print(\"Retrieving page: \" + curPage)\n",
    "        curPageContent = urllib.request.urlopen(curPage).read()        \n",
    "    except: \n",
    "        break\n",
    "        \n",
    "    soup = bs(curPageContent)\n",
    "\n",
    "    quoteBlocks = soup.find_all(class_=\"quote\")\n",
    "    \n",
    "    for quoteBlock in quoteBlocks:        \n",
    "        quoteDict = {}\n",
    "\n",
    "        # Add quote\n",
    "        quote = quoteBlock.find(class_=\"text\").text\n",
    "        quoteDict['Quote'] = quote\n",
    "\n",
    "        # URL for the each author\n",
    "        authorUrl = baseUrl + 'author/' + quoteBlock.find(\"a\").get(\"href\").split('/')[2]\n",
    "        \n",
    "        # Read author page\n",
    "        try:\n",
    "            authorInfo = urllib.request.urlopen(authorUrl).read()\n",
    "        except HTTPError as e:\n",
    "            print(curPage, \" \", authorUrl, \" \", e)\n",
    "        except URLError as e:\n",
    "            print(curPage, \" \", authorUrl, \" \", e)\n",
    "\n",
    "        authorSoup = bs(authorInfo)\n",
    "\n",
    "        # Author name\n",
    "        author = authorSoup.find(class_ = 'author-title').text\n",
    "        quoteDict['Author name'] = author\n",
    "\n",
    "        # Author born date\n",
    "        authorDob = authorSoup.find(class_ = 'author-born-date').text\n",
    "        quoteDict['Author DOB'] = authorDob\n",
    "\n",
    "        # Author place\n",
    "        authorPlace = authorSoup.find(class_ = 'author-born-location').text\n",
    "        quoteDict['Author born location'] = authorPlace.replace('in ','')\n",
    "\n",
    "        # Author bio\n",
    "        authorDesc = authorSoup.find(class_ = 'author-description').text\n",
    "        quoteDict['Author description'] = authorDesc.strip()\n",
    "\n",
    "        allQuoteData.append(quoteDict)\n",
    "\n",
    "    if soup.find(class_=\"next\") is None:\n",
    "        break\n",
    "    \n",
    "    pageLink = soup.find(class_='next').find('a').get('href')[1:]\n",
    "    nextPage = pageLink\n",
    "    curPage = baseUrl + nextPage\n",
    "    \n",
    "headers = allQuoteData[0].keys()\n",
    "quoteDf = pd.DataFrame(allQuoteData, columns=headers)\n",
    "\n",
    "quoteDf.to_csv(\"../data/raw/Quotes.csv\", encoding='utf-8-sig')\n",
    "quoteDf.to_excel(\"../data/raw/Quotes.xlsx\")\n",
    "\n",
    "print('Successfully converted data to CSV, xlsx')\n"
   ]
  }
 ],
 "metadata": {
  "kernelspec": {
   "display_name": "Python 3",
   "language": "python",
   "name": "python3"
  },
  "language_info": {
   "codemirror_mode": {
    "name": "ipython",
    "version": 3
   },
   "file_extension": ".py",
   "mimetype": "text/x-python",
   "name": "python",
   "nbconvert_exporter": "python",
   "pygments_lexer": "ipython3",
   "version": "3.8.3"
  }
 },
 "nbformat": 4,
 "nbformat_minor": 4
}
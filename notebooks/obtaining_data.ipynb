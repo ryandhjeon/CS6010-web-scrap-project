{
 "cells": [
  {
   "cell_type": "code",
   "execution_count": 15,
   "metadata": {},
   "outputs": [],
   "source": [
    "import pandas as pd\n",
    "import re as re\n",
    "import urllib.request\n",
    "from bs4 import BeautifulSoup as bs\n"
   ]
  },
  {
   "cell_type": "code",
   "execution_count": 42,
   "metadata": {},
   "outputs": [
    {
     "name": "stdout",
     "output_type": "stream",
     "text": [
      "cur pagehttp://quotes.toscrape.com/\n",
      "Retrieving  http://quotes.toscrape.com/author/Albert-Einstein\n",
      "Retrieving  http://quotes.toscrape.com/author/J-K-Rowling\n",
      "Retrieving  http://quotes.toscrape.com/author/Albert-Einstein\n",
      "Retrieving  http://quotes.toscrape.com/author/Jane-Austen\n",
      "Retrieving  http://quotes.toscrape.com/author/Marilyn-Monroe\n",
      "Retrieving  http://quotes.toscrape.com/author/Albert-Einstein\n",
      "Retrieving  http://quotes.toscrape.com/author/Andre-Gide\n",
      "Retrieving  http://quotes.toscrape.com/author/Thomas-A-Edison\n",
      "Retrieving  http://quotes.toscrape.com/author/Eleanor-Roosevelt\n",
      "Retrieving  http://quotes.toscrape.com/author/Steve-Martin\n"
     ]
    }
   ],
   "source": [
    "allQuoteData = []\n",
    "\n",
    "baseUrl = \"http://quotes.toscrape.com/\"\n",
    "curPage = baseUrl\n",
    "\n",
    "while True:\n",
    "    print('cur page' + curPage)\n",
    "    curPageContent = urllib.request.urlopen(curPage).read()\n",
    "    soup = bs(curPageContent)\n",
    "\n",
    "    quoteBlocks = soup.find_all(class_=\"quote\")\n",
    "\n",
    "    for quoteBlock in quoteBlocks:\n",
    "        quoteDict = {}\n",
    "\n",
    "        # Add quote\n",
    "        quote = quoteBlock.find(class_=\"text\").text\n",
    "        quoteDict['Quote'] = quote.replace('“','\"')\n",
    "\n",
    "        # URL for the each author\n",
    "        authorUrl = baseUrl + 'author/' + quoteBlock.find(\"a\").get(\"href\").split('/')[2]\n",
    "        print(\"Retrieving \", authorUrl)\n",
    "\n",
    "        # Read author page\n",
    "        authorInfo = urllib.request.urlopen(authorUrl).read()\n",
    "        authorSoup = bs(authorInfo)\n",
    "\n",
    "        # Author name\n",
    "        author = authorSoup.find(class_ = 'author-title').text\n",
    "        quoteDict['Author'] = author\n",
    "\n",
    "        # Author born date\n",
    "        authorDob = authorSoup.find(class_ = 'author-born-date').text\n",
    "        quoteDict['DOB'] = authorDob\n",
    "\n",
    "        # Author place\n",
    "        authorPlace = authorSoup.find(class_ = 'author-born-location').text\n",
    "        quoteDict['Born location'] = authorPlace.replace('in ','')\n",
    "\n",
    "        # Author bio\n",
    "        authorDesc = authorSoup.find(class_ = 'author-description').text\n",
    "        quoteDict['Author description'] = authorDesc.strip()\n",
    "\n",
    "        allQuoteData.append(quoteDict)\n",
    "\n",
    "    break\n",
    "    # if soup.find(class_=\"next\") is None:\n",
    "    #     break\n",
    "    \n",
    "    # nextPage = soup.find(class_='next').find('a').get('href')\n",
    "    # print('page:' + nextPage)\n",
    "    # curPage = baseUrl + nextPage\n",
    "\n"
   ]
  },
  {
   "cell_type": "code",
   "execution_count": 43,
   "metadata": {
    "pycharm": {
     "name": "#%%\n"
    }
   },
   "outputs": [
    {
     "data": {
      "text/plain": "                                               Quote           Author  \\\n0  \"The world as we have created it is a process ...  Albert Einstein   \n1  \"It is our choices, Harry, that show what we t...     J.K. Rowling   \n2  \"There are only two ways to live your life. On...  Albert Einstein   \n3  \"The person, be it gentleman or lady, who has ...      Jane Austen   \n4  \"Imperfection is beauty, madness is genius and...   Marilyn Monroe   \n\n                 DOB                                      Born location  \\\n0     March 14, 1879                                       Ulm, Germany   \n1      July 31, 1965  Yate, South Gloucestershire, England, The Unit...   \n2     March 14, 1879                                       Ulm, Germany   \n3  December 16, 1775   Steventon Rectory, Hampshire, The United Kingdom   \n4      June 01, 1926                                  The United States   \n\n                                  Author description  \n0  In 1879, Albert Einstein was born in Ulm, Germ...  \n1  See also: Robert GalbraithAlthough she writes ...  \n2  In 1879, Albert Einstein was born in Ulm, Germ...  \n3  Jane Austen was an English novelist whose work...  \n4  Marilyn Monroe (born Norma Jeane Mortenson; Ju...  ",
      "text/html": "<div>\n<style scoped>\n    .dataframe tbody tr th:only-of-type {\n        vertical-align: middle;\n    }\n\n    .dataframe tbody tr th {\n        vertical-align: top;\n    }\n\n    .dataframe thead th {\n        text-align: right;\n    }\n</style>\n<table border=\"1\" class=\"dataframe\">\n  <thead>\n    <tr style=\"text-align: right;\">\n      <th></th>\n      <th>Quote</th>\n      <th>Author</th>\n      <th>DOB</th>\n      <th>Born location</th>\n      <th>Author description</th>\n    </tr>\n  </thead>\n  <tbody>\n    <tr>\n      <th>0</th>\n      <td>\"The world as we have created it is a process ...</td>\n      <td>Albert Einstein</td>\n      <td>March 14, 1879</td>\n      <td>Ulm, Germany</td>\n      <td>In 1879, Albert Einstein was born in Ulm, Germ...</td>\n    </tr>\n    <tr>\n      <th>1</th>\n      <td>\"It is our choices, Harry, that show what we t...</td>\n      <td>J.K. Rowling</td>\n      <td>July 31, 1965</td>\n      <td>Yate, South Gloucestershire, England, The Unit...</td>\n      <td>See also: Robert GalbraithAlthough she writes ...</td>\n    </tr>\n    <tr>\n      <th>2</th>\n      <td>\"There are only two ways to live your life. On...</td>\n      <td>Albert Einstein</td>\n      <td>March 14, 1879</td>\n      <td>Ulm, Germany</td>\n      <td>In 1879, Albert Einstein was born in Ulm, Germ...</td>\n    </tr>\n    <tr>\n      <th>3</th>\n      <td>\"The person, be it gentleman or lady, who has ...</td>\n      <td>Jane Austen</td>\n      <td>December 16, 1775</td>\n      <td>Steventon Rectory, Hampshire, The United Kingdom</td>\n      <td>Jane Austen was an English novelist whose work...</td>\n    </tr>\n    <tr>\n      <th>4</th>\n      <td>\"Imperfection is beauty, madness is genius and...</td>\n      <td>Marilyn Monroe</td>\n      <td>June 01, 1926</td>\n      <td>The United States</td>\n      <td>Marilyn Monroe (born Norma Jeane Mortenson; Ju...</td>\n    </tr>\n  </tbody>\n</table>\n</div>"
     },
     "execution_count": 43,
     "metadata": {},
     "output_type": "execute_result"
    }
   ],
   "source": [
    "\n",
    "headers = allQuoteData[0].keys()\n",
    "quoteDf = pd.DataFrame(allQuoteData, columns=headers)\n",
    "\n",
    "quoteDf.shape\n",
    "\n",
    "quoteDf.head()\n",
    "\n",
    "# allQuoteData"
   ]
  },
  {
   "cell_type": "code",
   "execution_count": 44,
   "outputs": [
    {
     "name": "stdout",
     "output_type": "stream",
     "text": [
      "Successfully converted data to CSV, xlsx\n"
     ]
    }
   ],
   "source": [
    "\n",
    "quoteDf.to_csv(\"../data/raw/Quotes.csv\")\n",
    "quoteDf.to_excel(\"../data/raw/Quotes.xlsx\")\n",
    "\n",
    "print('Successfully converted data to CSV, xlsx')"
   ],
   "metadata": {
    "collapsed": false,
    "pycharm": {
     "name": "#%%\n"
    }
   }
  },
  {
   "cell_type": "code",
   "execution_count": null,
   "outputs": [],
   "source": [],
   "metadata": {
    "collapsed": false,
    "pycharm": {
     "name": "#%%\n"
    }
   }
  }
 ],
 "metadata": {
  "kernelspec": {
   "display_name": "Python 3",
   "language": "python",
   "name": "python3"
  },
  "language_info": {
   "codemirror_mode": {
    "name": "ipython",
    "version": 3
   },
   "file_extension": ".py",
   "mimetype": "text/x-python",
   "name": "python",
   "nbconvert_exporter": "python",
   "pygments_lexer": "ipython3",
   "version": "3.8.5"
  }
 },
 "nbformat": 4,
 "nbformat_minor": 4
}
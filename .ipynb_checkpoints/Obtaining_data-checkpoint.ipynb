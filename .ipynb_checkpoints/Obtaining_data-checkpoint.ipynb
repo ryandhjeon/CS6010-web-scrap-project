{
 "cells": [
  {
   "cell_type": "code",
   "execution_count": 3,
   "metadata": {},
   "outputs": [],
   "source": [
    "import urllib.request\n",
    "from bs4 import BeautifulSoup as bs"
   ]
  },
  {
   "cell_type": "code",
   "execution_count": 4,
   "metadata": {},
   "outputs": [
    {
     "name": "stdout",
     "output_type": "stream",
     "text": [
      "Retrieving  http://quotes.toscrape.com/\n",
      "Retrieving  http://quotes.toscrape.com//page/2/\n",
      "Retrieving  http://quotes.toscrape.com//page/3/\n",
      "Retrieving  http://quotes.toscrape.com//page/4/\n",
      "Retrieving  http://quotes.toscrape.com//page/5/\n",
      "Retrieving  http://quotes.toscrape.com//page/6/\n",
      "Retrieving  http://quotes.toscrape.com//page/7/\n",
      "Retrieving  http://quotes.toscrape.com//page/8/\n",
      "Retrieving  http://quotes.toscrape.com//page/9/\n",
      "Retrieving  http://quotes.toscrape.com//page/10/\n"
     ]
    }
   ],
   "source": [
    "allQuoteData = []\n",
    "baseUrl = \"http://quotes.toscrape.com/\"\n",
    "curPage = baseUrl\n",
    "\n",
    "while True:\n",
    "    try:\n",
    "        print(\"Retrieving \", curPage)\n",
    "        curPageContent = urllib.request.urlopen(curPage).read()\n",
    "    except:\n",
    "        break\n",
    "            \n",
    "    soup = bs(curPageContent)\n",
    "\n",
    "    quote_blocks = soup.find_all(class_=\"quote\")\n",
    "\n",
    "    for quote_block in quote_blocks:\n",
    "        quote_dict = {}\n",
    "\n",
    "        quote = quote_block.find(class_=\"text\").text\n",
    "        quote_dict['Quote'] = quote\n",
    "\n",
    "        author = quote_block.find(class_=\"author\").text\n",
    "        quote_dict['Author'] = author\n",
    "\n",
    "        author_url = baseUrl + 'author/' + quote_block.find(\"a\").get(\"href\").split('/')[2]\n",
    "\n",
    "        # Open Author URL\n",
    "        author_info = urllib.request.urlopen(author_url).read()\n",
    "        author_soup = bs(author_info)\n",
    "\n",
    "        # Author DOB\n",
    "        author_dob = author_soup.find(class_ = 'author-born-date').text\n",
    "        quote_dict['Author DOB'] = author_dob\n",
    "\n",
    "        # Author Place\n",
    "        author_place = author_soup.find(class_ = 'author-born-location').text\n",
    "        author_place.replace('in ','')\n",
    "        quote_dict['Author Place of Birth'] = author_place\n",
    "\n",
    "        # Author Bio\n",
    "        author_bio = author_soup.find(class_ = 'author-description').text\n",
    "        quote_dict['Author Bio'] = author_bio    \n",
    "\n",
    "        allQuoteData.append(quote_dict)\n",
    "        \n",
    "    if soup.find(class_=\"next\") is None:\n",
    "        break\n",
    "    \n",
    "    nextPage = soup.find(class_='next').find('a').get('href')\n",
    "    curPage = baseUrl + nextPage\n",
    "\n"
   ]
  },
  {
   "cell_type": "code",
   "execution_count": null,
   "metadata": {
    "pycharm": {
     "name": "#%%\n"
    }
   },
   "outputs": [],
   "source": [
    "allQuoteData\n",
    "\n"
   ]
  }
 ],
 "metadata": {
  "kernelspec": {
   "display_name": "Python 3",
   "language": "python",
   "name": "python3"
  },
  "language_info": {
   "codemirror_mode": {
    "name": "ipython",
    "version": 3
   },
   "file_extension": ".py",
   "mimetype": "text/x-python",
   "name": "python",
   "nbconvert_exporter": "python",
   "pygments_lexer": "ipython3",
   "version": "3.8.5"
  }
 },
 "nbformat": 4,
 "nbformat_minor": 4
}
